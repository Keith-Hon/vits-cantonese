{
 "cells": [
  {
   "cell_type": "code",
   "execution_count": 3,
   "metadata": {},
   "outputs": [],
   "source": [
    "# This script is work in progress\n",
    "!pip install tensorboard"
   ]
  },
  {
   "cell_type": "code",
   "execution_count": null,
   "metadata": {},
   "outputs": [],
   "source": [
    "# download pretrained model\n",
    "# https://huggingface.co/spaces/sayashi/vits-uma-genshin-honkai/resolve/main/model/G_0.pth"
   ]
  },
  {
   "cell_type": "code",
   "execution_count": 5,
   "metadata": {},
   "outputs": [
    {
     "name": "stdout",
     "output_type": "stream",
     "text": [
      "INFO:G_0.pth:{'train': {'segment_size': 8192}, 'data': {'text_cleaners': ['chinese_dialect_cleaners'], 'max_wav_value': 32768.0, 'sampling_rate': 22050, 'filter_length': 1024, 'hop_length': 256, 'win_length': 1024, 'add_blank': True, 'n_speakers': 50}, 'model': {'inter_channels': 192, 'hidden_channels': 192, 'filter_channels': 768, 'n_heads': 2, 'n_layers': 6, 'kernel_size': 3, 'p_dropout': 0.1, 'resblock': '1', 'resblock_kernel_sizes': [3, 7, 11], 'resblock_dilation_sizes': [[1, 3, 5], [1, 3, 5], [1, 3, 5]], 'upsample_rates': [8, 8, 2, 2], 'upsample_initial_channel': 512, 'upsample_kernel_sizes': [16, 16, 4, 4], 'n_layers_q': 3, 'use_spectral_norm': False, 'gin_channels': 256}, 'speakers': ['布良梓', '綾地寧々', '朝武芳乃', '在原七海', 'ユースティア', 'コレット', 'リシア', 'カイム', 'ルイズ', 'つくよみちゃん', '菲呂菈', '謝子臣', '雪見', '夏芊帆', '羅少峰', '謝子璇', '楠希姐', '莉莉', '小茸', '唐乐吟', '小殷', '花玲', '海词上海话', '海词广东话'], 'symbols': ['_', ',', '.', '!', '?', '~', '…', '─', '#', 'N', 'a', 'b', 'd', 'e', 'f', 'g', 'h', 'i', 'j', 'k', 'l', 'm', 'n', 'o', 'p', 'r', 's', 't', 'u', 'v', 'w', 'x', 'y', 'z', 'æ', 'ç', 'ø', 'ŋ', 'œ', 'ȵ', 'ɐ', 'ɑ', 'ɒ', 'ɓ', 'ɔ', 'ɕ', 'ɗ', 'ɘ', 'ə', 'ɚ', 'ɛ', 'ɜ', 'ɣ', 'ɤ', 'ɦ', 'ɪ', 'ɭ', 'ɯ', 'ɵ', 'ɷ', 'ɸ', 'ɻ', 'ɾ', 'ɿ', 'ʂ', 'ʅ', 'ʊ', 'ʋ', 'ʌ', 'ʏ', 'ʑ', 'ʔ', 'ʦ', 'ʮ', 'ʰ', 'ʷ', 'ˀ', 'ː', '˥', '˦', '˧', '˨', '˩', '̃', '̚', '̥', '̩', 'ᴀ', 'ᴇ', '↑', '↓', '∅', 'ⱼ', ' '], 'model_dir': '../drive/MyDrive\\\\G_0.pth'}\n"
     ]
    },
    {
     "name": "stderr",
     "output_type": "stream",
     "text": [
      "--- Logging error ---\n",
      "Traceback (most recent call last):\n",
      "  File \"C:\\Users\\keithhon\\AppData\\Local\\Programs\\Python\\Python39\\lib\\logging\\__init__.py\", line 1086, in emit\n",
      "    stream.write(msg + self.terminator)\n",
      "  File \"C:\\Users\\keithhon\\AppData\\Local\\Programs\\Python\\Python39\\lib\\encodings\\cp1252.py\", line 19, in encode\n",
      "    return codecs.charmap_encode(input,self.errors,encoding_table)[0]\n",
      "UnicodeEncodeError: 'charmap' codec can't encode characters in position 726-728: character maps to <undefined>\n",
      "Call stack:\n",
      "  File \"<string>\", line 1, in <module>\n",
      "  File \"C:\\Users\\keithhon\\AppData\\Local\\Programs\\Python\\Python39\\lib\\multiprocessing\\spawn.py\", line 116, in spawn_main\n",
      "    exitcode = _main(fd, parent_sentinel)\n",
      "  File \"C:\\Users\\keithhon\\AppData\\Local\\Programs\\Python\\Python39\\lib\\multiprocessing\\spawn.py\", line 129, in _main\n",
      "    return self._bootstrap(parent_sentinel)\n",
      "  File \"C:\\Users\\keithhon\\AppData\\Local\\Programs\\Python\\Python39\\lib\\multiprocessing\\process.py\", line 315, in _bootstrap\n",
      "    self.run()\n",
      "  File \"C:\\Users\\keithhon\\AppData\\Local\\Programs\\Python\\Python39\\lib\\multiprocessing\\process.py\", line 108, in run\n",
      "    self._target(*self._args, **self._kwargs)\n",
      "  File \"c:\\Users\\keithhon\\Desktop\\vits-cantonese\\venv\\lib\\site-packages\\torch\\multiprocessing\\spawn.py\", line 69, in _wrap\n",
      "    fn(i, *args)\n",
      "  File \"c:\\Users\\keithhon\\Desktop\\vits-cantonese\\train.py\", line 62, in run\n",
      "    logger.info(hps)\n",
      "Message: {'train': {'segment_size': 8192}, 'data': {'text_cleaners': ['chinese_dialect_cleaners'], 'max_wav_value': 32768.0, 'sampling_rate': 22050, 'filter_length': 1024, 'hop_length': 256, 'win_length': 1024, 'add_blank': True, 'n_speakers': 50}, 'model': {'inter_channels': 192, 'hidden_channels': 192, 'filter_channels': 768, 'n_heads': 2, 'n_layers': 6, 'kernel_size': 3, 'p_dropout': 0.1, 'resblock': '1', 'resblock_kernel_sizes': [3, 7, 11], 'resblock_dilation_sizes': [[1, 3, 5], [1, 3, 5], [1, 3, 5]], 'upsample_rates': [8, 8, 2, 2], 'upsample_initial_channel': 512, 'upsample_kernel_sizes': [16, 16, 4, 4], 'n_layers_q': 3, 'use_spectral_norm': False, 'gin_channels': 256}, 'speakers': ['布良梓', '綾地寧々', '朝武芳乃', '在原七海', 'ユースティア', 'コレット', 'リシア', 'カイム', 'ルイズ', 'つくよみちゃん', '菲呂菈', '謝子臣', '雪見', '夏芊帆', '羅少峰', '謝子璇', '楠希姐', '莉莉', '小茸', '唐乐吟', '小殷', '花玲', '海词上海话', '海词广东话'], 'symbols': ['_', ',', '.', '!', '?', '~', '…', '─', '#', 'N', 'a', 'b', 'd', 'e', 'f', 'g', 'h', 'i', 'j', 'k', 'l', 'm', 'n', 'o', 'p', 'r', 's', 't', 'u', 'v', 'w', 'x', 'y', 'z', 'æ', 'ç', 'ø', 'ŋ', 'œ', 'ȵ', 'ɐ', 'ɑ', 'ɒ', 'ɓ', 'ɔ', 'ɕ', 'ɗ', 'ɘ', 'ə', 'ɚ', 'ɛ', 'ɜ', 'ɣ', 'ɤ', 'ɦ', 'ɪ', 'ɭ', 'ɯ', 'ɵ', 'ɷ', 'ɸ', 'ɻ', 'ɾ', 'ɿ', 'ʂ', 'ʅ', 'ʊ', 'ʋ', 'ʌ', 'ʏ', 'ʑ', 'ʔ', 'ʦ', 'ʮ', 'ʰ', 'ʷ', 'ˀ', 'ː', '˥', '˦', '˧', '˨', '˩', '̃', '̚', '̥', '̩', 'ᴀ', 'ᴇ', '↑', '↓', '∅', 'ⱼ', ' '], 'model_dir': '../drive/MyDrive\\\\G_0.pth'}\n",
      "Arguments: ()\n",
      "Traceback (most recent call last):\n",
      "  File \"c:\\Users\\keithhon\\Desktop\\vits-cantonese\\train.py\", line 301, in <module>\n",
      "    main()\n",
      "  File \"c:\\Users\\keithhon\\Desktop\\vits-cantonese\\train.py\", line 55, in main\n",
      "    mp.spawn(run, nprocs=n_gpus, args=(n_gpus, hps,))\n",
      "  File \"c:\\Users\\keithhon\\Desktop\\vits-cantonese\\venv\\lib\\site-packages\\torch\\multiprocessing\\spawn.py\", line 239, in spawn\n",
      "    return start_processes(fn, args, nprocs, join, daemon, start_method='spawn')\n",
      "  File \"c:\\Users\\keithhon\\Desktop\\vits-cantonese\\venv\\lib\\site-packages\\torch\\multiprocessing\\spawn.py\", line 197, in start_processes\n",
      "    while not context.join():\n",
      "  File \"c:\\Users\\keithhon\\Desktop\\vits-cantonese\\venv\\lib\\site-packages\\torch\\multiprocessing\\spawn.py\", line 160, in join\n",
      "    raise ProcessRaisedException(msg, error_index, failed_process.pid)\n",
      "torch.multiprocessing.spawn.ProcessRaisedException: \n",
      "\n",
      "-- Process 0 terminated with the following error:\n",
      "Traceback (most recent call last):\n",
      "  File \"c:\\Users\\keithhon\\Desktop\\vits-cantonese\\venv\\lib\\site-packages\\torch\\multiprocessing\\spawn.py\", line 69, in _wrap\n",
      "    fn(i, *args)\n",
      "  File \"c:\\Users\\keithhon\\Desktop\\vits-cantonese\\train.py\", line 67, in run\n",
      "    dist.init_process_group(backend='nccl', init_method='env://', world_size=n_gpus, rank=rank)\n",
      "  File \"c:\\Users\\keithhon\\Desktop\\vits-cantonese\\venv\\lib\\site-packages\\torch\\distributed\\distributed_c10d.py\", line 895, in init_process_group\n",
      "    default_pg = _new_process_group_helper(\n",
      "  File \"c:\\Users\\keithhon\\Desktop\\vits-cantonese\\venv\\lib\\site-packages\\torch\\distributed\\distributed_c10d.py\", line 998, in _new_process_group_helper\n",
      "    raise RuntimeError(\"Distributed package doesn't have NCCL \" \"built in\")\n",
      "RuntimeError: Distributed package doesn't have NCCL built in\n",
      "\n"
     ]
    }
   ],
   "source": [
    "!python train.py -c ./configs/cantonese_base.json -m G_0.pth"
   ]
  }
 ],
 "metadata": {
  "kernelspec": {
   "display_name": "venv",
   "language": "python",
   "name": "python3"
  },
  "language_info": {
   "codemirror_mode": {
    "name": "ipython",
    "version": 3
   },
   "file_extension": ".py",
   "mimetype": "text/x-python",
   "name": "python",
   "nbconvert_exporter": "python",
   "pygments_lexer": "ipython3",
   "version": "3.9.13"
  },
  "orig_nbformat": 4
 },
 "nbformat": 4,
 "nbformat_minor": 2
}
